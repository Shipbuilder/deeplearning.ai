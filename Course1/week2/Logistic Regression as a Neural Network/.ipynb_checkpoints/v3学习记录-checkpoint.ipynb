{
 "cells": [
  {
   "cell_type": "code",
   "execution_count": 1,
   "metadata": {
    "collapsed": true
   },
   "outputs": [],
   "source": [
    "import numpy as np"
   ]
  },
  {
   "cell_type": "markdown",
   "metadata": {},
   "source": [
    "### 1. 强化高维度数组结构的理解"
   ]
  },
  {
   "cell_type": "code",
   "execution_count": 2,
   "metadata": {},
   "outputs": [
    {
     "name": "stdout",
     "output_type": "stream",
     "text": [
      "(2, 2, 2, 3)\n"
     ]
    }
   ],
   "source": [
    "arr = np.array([[[[1, 2, 3],\n",
    "                  [1, 2, 3]],\n",
    "                 [[4, 5, 6],\n",
    "                  [4, 5, 6]]],\n",
    "                [[[7, 8, 9],\n",
    "                  [7, 8, 9]],\n",
    "                 [[0, 1, 2],\n",
    "                  [0, 1, 2]]]])\n",
    "print(arr.shape)"
   ]
  },
  {
   "cell_type": "markdown",
   "metadata": {},
   "source": [
    "### 2. 了解原始数据结构\n",
    "* 原始数据结构为：（照片数，高，宽，RGB3图层）4维数据\n",
    "* 抽象为二维：（照片数，每张照片）,即每一行代表一张照片"
   ]
  },
  {
   "cell_type": "markdown",
   "metadata": {},
   "source": [
    "### 3. np.squeeze函数\n",
    "* 用于压缩维度或生成数组形式。"
   ]
  },
  {
   "cell_type": "code",
   "execution_count": 3,
   "metadata": {},
   "outputs": [
    {
     "name": "stdout",
     "output_type": "stream",
     "text": [
      "1\n",
      "1\n"
     ]
    }
   ],
   "source": [
    "data = [1, 2, 3, 4]\n",
    "index = [0]\n",
    "\n",
    "print(data[np.squeeze(index)])\n",
    "print(data[index[0]])"
   ]
  },
  {
   "cell_type": "markdown",
   "metadata": {
    "collapsed": true
   },
   "source": [
    "### 4. 转置的魔力"
   ]
  },
  {
   "cell_type": "code",
   "execution_count": 4,
   "metadata": {},
   "outputs": [
    {
     "name": "stdout",
     "output_type": "stream",
     "text": [
      "(2, 2, 2, 3)\n",
      "(2, 12)\n"
     ]
    }
   ],
   "source": [
    "arr = np.array([[[[1, 2, 3],\n",
    "                  [1, 2, 3]],\n",
    "                 [[4, 5, 6],\n",
    "                  [4, 5, 6]]],\n",
    "                [[[7, 8, 9],\n",
    "                  [7, 8, 9]],\n",
    "                 [[0, 1, 2],\n",
    "                  [0, 1, 2]]]])\n",
    "print(arr.shape)\n",
    "\n",
    "arr_tran = arr.reshape(arr.shape[0], -1)\n",
    "print(arr_tran.shape)"
   ]
  },
  {
   "cell_type": "markdown",
   "metadata": {
    "collapsed": true
   },
   "source": [
    "### 5. 注意矩阵形式的索引"
   ]
  },
  {
   "cell_type": "code",
   "execution_count": 5,
   "metadata": {},
   "outputs": [
    {
     "name": "stdout",
     "output_type": "stream",
     "text": [
      "[[ 0.4720493  -0.87529355 -1.32809229 -0.6764715 ]]\n",
      "-0.676471503449\n"
     ]
    }
   ],
   "source": [
    "arr = np.random.randn(1,4)\n",
    "print(arr)\n",
    "print(arr[0, 3])"
   ]
  },
  {
   "cell_type": "markdown",
   "metadata": {},
   "source": [
    "### 6. np.sum函数和np.mean函数的灵活运用\n",
    "* 当参数（如列表等可迭代对象）中的元素仅为0和1时的灵活运用"
   ]
  },
  {
   "cell_type": "markdown",
   "metadata": {},
   "source": [
    "### 7. 图片预处理\n",
    "* 生成图片的像素格式（height, width, dims）`scipy.ndimage.imread()`\n",
    "* 压缩图片 `scipy.misc.imresize()`"
   ]
  }
 ],
 "metadata": {
  "kernelspec": {
   "display_name": "Python 3",
   "language": "python",
   "name": "python3"
  },
  "language_info": {
   "codemirror_mode": {
    "name": "ipython",
    "version": 3
   },
   "file_extension": ".py",
   "mimetype": "text/x-python",
   "name": "python",
   "nbconvert_exporter": "python",
   "pygments_lexer": "ipython3",
   "version": "3.6.3"
  }
 },
 "nbformat": 4,
 "nbformat_minor": 2
}
