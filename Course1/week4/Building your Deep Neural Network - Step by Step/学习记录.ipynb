{
 "cells": [
  {
   "cell_type": "markdown",
   "metadata": {},
   "source": [
    "### 1. 实现步骤\n",
    "1. 确定神经网络的框架\n",
    "2. 初始化权重参数\n",
    "3. 确定激活函数\n",
    "4. 执行前向传播,并缓存参数\n",
    "5. 计算代价函数\n",
    "6. 执行后向传播，计算梯度\n",
    "7. 更新权重"
   ]
  },
  {
   "cell_type": "markdown",
   "metadata": {},
   "source": [
    "### 2.  优化了L-Model Backward代码中的层次"
   ]
  }
 ],
 "metadata": {
  "kernelspec": {
   "display_name": "Python 3",
   "language": "python",
   "name": "python3"
  },
  "language_info": {
   "codemirror_mode": {
    "name": "ipython",
    "version": 3
   },
   "file_extension": ".py",
   "mimetype": "text/x-python",
   "name": "python",
   "nbconvert_exporter": "python",
   "pygments_lexer": "ipython3",
   "version": "3.6.3"
  }
 },
 "nbformat": 4,
 "nbformat_minor": 2
}
